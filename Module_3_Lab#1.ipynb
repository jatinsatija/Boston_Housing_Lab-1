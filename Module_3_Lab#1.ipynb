{
  "nbformat": 4,
  "nbformat_minor": 0,
  "metadata": {
    "colab": {
      "provenance": []
    },
    "kernelspec": {
      "name": "python3",
      "display_name": "Python 3"
    },
    "language_info": {
      "name": "python"
    }
  },
  "cells": [
    {
      "cell_type": "code",
      "execution_count": 1,
      "metadata": {
        "colab": {
          "base_uri": "https://localhost:8080/"
        },
        "id": "pnucHQqAAbd1",
        "outputId": "ebdd46e9-1065-41db-9e34-861232f2ab0d"
      },
      "outputs": [
        {
          "output_type": "stream",
          "name": "stdout",
          "text": [
            "Collecting pyspark\n",
            "  Downloading pyspark-3.5.1.tar.gz (317.0 MB)\n",
            "\u001b[2K     \u001b[90m━━━━━━━━━━━━━━━━━━━━━━━━━━━━━━━━━━━━━━━━\u001b[0m \u001b[32m317.0/317.0 MB\u001b[0m \u001b[31m4.0 MB/s\u001b[0m eta \u001b[36m0:00:00\u001b[0m\n",
            "\u001b[?25h  Preparing metadata (setup.py) ... \u001b[?25l\u001b[?25hdone\n",
            "Requirement already satisfied: py4j==0.10.9.7 in /usr/local/lib/python3.10/dist-packages (from pyspark) (0.10.9.7)\n",
            "Building wheels for collected packages: pyspark\n",
            "  Building wheel for pyspark (setup.py) ... \u001b[?25l\u001b[?25hdone\n",
            "  Created wheel for pyspark: filename=pyspark-3.5.1-py2.py3-none-any.whl size=317488491 sha256=09e4cd19dadd0d36fe060a1ead520e9f3276c233587f2fe1725267bdf82eaedd\n",
            "  Stored in directory: /root/.cache/pip/wheels/80/1d/60/2c256ed38dddce2fdd93be545214a63e02fbd8d74fb0b7f3a6\n",
            "Successfully built pyspark\n",
            "Installing collected packages: pyspark\n",
            "Successfully installed pyspark-3.5.1\n"
          ]
        }
      ],
      "source": [
        "!pip install pyspark"
      ]
    },
    {
      "cell_type": "code",
      "source": [
        "from pyspark.sql import SparkSession\n",
        "from pyspark.sql.functions import col, round, expr\n",
        "import matplotlib.pyplot as plt\n",
        "spark = SparkSession.builder.master(\"local[*]\").getOrCreate()\n",
        "\n",
        "print(spark.sparkContext)\n",
        "print(\"Spark App Name: \" + spark.sparkContext.appName)\n"
      ],
      "metadata": {
        "colab": {
          "base_uri": "https://localhost:8080/"
        },
        "id": "6Dac1u_UAiHq",
        "outputId": "755c144e-8315-4081-85a9-8ddd40b07aef"
      },
      "execution_count": 2,
      "outputs": [
        {
          "output_type": "stream",
          "name": "stdout",
          "text": [
            "<SparkContext master=local[*] appName=pyspark-shell>\n",
            "Spark App Name: pyspark-shell\n"
          ]
        }
      ]
    },
    {
      "cell_type": "code",
      "source": [
        "df = spark.read.csv(\"BostonHousing.csv\", header=True, inferSchema=True)\n"
      ],
      "metadata": {
        "id": "FO3MNOC4AkLu"
      },
      "execution_count": 3,
      "outputs": []
    },
    {
      "cell_type": "code",
      "source": [
        "df.show(5)"
      ],
      "metadata": {
        "colab": {
          "base_uri": "https://localhost:8080/"
        },
        "id": "L-b70HNkBG7b",
        "outputId": "1efa6418-0bd0-4e33-c304-6779d4afcc5f"
      },
      "execution_count": 4,
      "outputs": [
        {
          "output_type": "stream",
          "name": "stdout",
          "text": [
            "+-------+----+-----+----+-----+-----+----+------+---+---+-------+------+-----+----+\n",
            "|   crim|  zn|indus|chas|  nox|   rm| age|   dis|rad|tax|ptratio|     b|lstat|medv|\n",
            "+-------+----+-----+----+-----+-----+----+------+---+---+-------+------+-----+----+\n",
            "|0.00632|18.0| 2.31|   0|0.538|6.575|65.2|  4.09|  1|296|   15.3| 396.9| 4.98|24.0|\n",
            "|0.02731| 0.0| 7.07|   0|0.469|6.421|78.9|4.9671|  2|242|   17.8| 396.9| 9.14|21.6|\n",
            "|0.02729| 0.0| 7.07|   0|0.469|7.185|61.1|4.9671|  2|242|   17.8|392.83| 4.03|34.7|\n",
            "|0.03237| 0.0| 2.18|   0|0.458|6.998|45.8|6.0622|  3|222|   18.7|394.63| 2.94|33.4|\n",
            "|0.06905| 0.0| 2.18|   0|0.458|7.147|54.2|6.0622|  3|222|   18.7| 396.9| 5.33|36.2|\n",
            "+-------+----+-----+----+-----+-----+----+------+---+---+-------+------+-----+----+\n",
            "only showing top 5 rows\n",
            "\n"
          ]
        }
      ]
    },
    {
      "cell_type": "code",
      "source": [
        "num_observations = df.count()\n",
        "print(f\"Number of observations: {num_observations}\")"
      ],
      "metadata": {
        "colab": {
          "base_uri": "https://localhost:8080/"
        },
        "id": "1wd-guahAmK0",
        "outputId": "b4096691-9a37-4edf-a42a-f4357a654883"
      },
      "execution_count": 5,
      "outputs": [
        {
          "output_type": "stream",
          "name": "stdout",
          "text": [
            "Number of observations: 506\n"
          ]
        }
      ]
    },
    {
      "cell_type": "code",
      "source": [
        "df.printSchema()"
      ],
      "metadata": {
        "colab": {
          "base_uri": "https://localhost:8080/"
        },
        "id": "pH_o7M_gAoJ8",
        "outputId": "baaac975-7d64-417d-b9e9-16c8a948fde0"
      },
      "execution_count": 6,
      "outputs": [
        {
          "output_type": "stream",
          "name": "stdout",
          "text": [
            "root\n",
            " |-- crim: double (nullable = true)\n",
            " |-- zn: double (nullable = true)\n",
            " |-- indus: double (nullable = true)\n",
            " |-- chas: integer (nullable = true)\n",
            " |-- nox: double (nullable = true)\n",
            " |-- rm: double (nullable = true)\n",
            " |-- age: double (nullable = true)\n",
            " |-- dis: double (nullable = true)\n",
            " |-- rad: integer (nullable = true)\n",
            " |-- tax: integer (nullable = true)\n",
            " |-- ptratio: double (nullable = true)\n",
            " |-- b: double (nullable = true)\n",
            " |-- lstat: double (nullable = true)\n",
            " |-- medv: double (nullable = true)\n",
            "\n"
          ]
        }
      ]
    },
    {
      "cell_type": "code",
      "source": [
        "df = df.drop(\"b\")"
      ],
      "metadata": {
        "id": "y27EzZgXAqh8"
      },
      "execution_count": 7,
      "outputs": []
    },
    {
      "cell_type": "code",
      "source": [
        "numerical_columns = [col_name for col_name, dtype in df.dtypes if dtype == 'double' or dtype == 'int']\n",
        "for col_name in numerical_columns:\n",
        "    df = df.withColumn(col_name, round(col(col_name), 2))"
      ],
      "metadata": {
        "id": "vmzfGLspAsVm"
      },
      "execution_count": 8,
      "outputs": []
    },
    {
      "cell_type": "code",
      "source": [
        "df = df.withColumn(\"Age10\", (col(\"age\") * 1.1))"
      ],
      "metadata": {
        "id": "RYB0--J2A2o-"
      },
      "execution_count": 9,
      "outputs": []
    },
    {
      "cell_type": "code",
      "source": [
        "age10_data = df.select(\"Age10\").rdd.flatMap(lambda x: x).collect()\n",
        "plt.hist(age10_data, bins=20, edgecolor='black')\n",
        "plt.title(\"Histogram of Age10\")\n",
        "plt.xlabel(\"Age10\")\n",
        "plt.ylabel(\"Frequency\")\n",
        "plt.show()"
      ],
      "metadata": {
        "colab": {
          "base_uri": "https://localhost:8080/",
          "height": 472
        },
        "id": "_OCtmXQgBRap",
        "outputId": "fd66e033-81de-4b42-82f9-9a5d7ee6e950"
      },
      "execution_count": 10,
      "outputs": [
        {
          "output_type": "display_data",
          "data": {
            "text/plain": [
              "<Figure size 640x480 with 1 Axes>"
            ],
            "image/png": "[encoded data removed]"
          },
          "metadata": {}
        }
      ]
    },
    {
      "cell_type": "code",
      "source": [
        "df.describe().show()\n"
      ],
      "metadata": {
        "colab": {
          "base_uri": "https://localhost:8080/"
        },
        "id": "eFIGw6gnBTLB",
        "outputId": "91ff4429-b0d7-447e-ce31-cffe429e7629"
      },
      "execution_count": 11,
      "outputs": [
        {
          "output_type": "stream",
          "name": "stdout",
          "text": [
            "+-------+------------------+------------------+------------------+------------------+------------------+------------------+------------------+------------------+-----------------+------------------+------------------+------------------+------------------+------------------+\n",
            "|summary|              crim|                zn|             indus|              chas|               nox|                rm|               age|               dis|              rad|               tax|           ptratio|             lstat|              medv|             Age10|\n",
            "+-------+------------------+------------------+------------------+------------------+------------------+------------------+------------------+------------------+-----------------+------------------+------------------+------------------+------------------+------------------+\n",
            "|  count|               506|               506|               506|               506|               506|               506|               506|               506|              506|               506|               506|               506|               506|               506|\n",
            "|   mean|3.6134189723320147|11.363636363636363|11.136778656126504|0.0691699604743083|0.5547628458498024| 6.285217391304348| 68.57490118577078| 3.795434782608693|9.549407114624506| 408.2371541501976|18.455533596837967|12.653063241106723|22.532806324110698| 75.43239130434783|\n",
            "| stddev| 8.601602243696705| 23.32245299451514| 6.860352940897589|0.2539940413404101|0.1155068172648583|0.7028533445424924|28.148861406903595|2.1057760049129106|8.707259384239366|168.53711605495903|2.1649455237144455| 7.141061511348571| 9.197104087379815| 30.96374754759397|\n",
            "|    min|              0.01|               0.0|              0.46|                 0|              0.39|              3.56|               2.9|              1.13|                1|               187|              12.6|              1.73|               5.0|              3.19|\n",
            "|    max|             88.98|             100.0|             27.74|                 1|              0.87|              8.78|             100.0|             12.13|               24|               711|              22.0|             37.97|              50.0|110.00000000000001|\n",
            "+-------+------------------+------------------+------------------+------------------+------------------+------------------+------------------+------------------+-----------------+------------------+------------------+------------------+------------------+------------------+\n",
            "\n"
          ]
        }
      ]
    },
    {
      "cell_type": "code",
      "source": [
        "pdf = df.toPandas()"
      ],
      "metadata": {
        "id": "DH8HQHfRBU2U"
      },
      "execution_count": 12,
      "outputs": []
    },
    {
      "cell_type": "code",
      "source": [
        "print(pdf.tail())"
      ],
      "metadata": {
        "colab": {
          "base_uri": "https://localhost:8080/"
        },
        "id": "Ep3APiqKBWeA",
        "outputId": "e2c3a768-d314-4a8f-b5f8-8a43953cbc92"
      },
      "execution_count": 13,
      "outputs": [
        {
          "output_type": "stream",
          "name": "stdout",
          "text": [
            "     crim   zn  indus  chas   nox    rm   age   dis  rad  tax  ptratio  lstat  \\\n",
            "501  0.06  0.0  11.93     0  0.57  6.59  69.1  2.48    1  273     21.0   9.67   \n",
            "502  0.05  0.0  11.93     0  0.57  6.12  76.7  2.29    1  273     21.0   9.08   \n",
            "503  0.06  0.0  11.93     0  0.57  6.98  91.0  2.17    1  273     21.0   5.64   \n",
            "504  0.11  0.0  11.93     0  0.57  6.79  89.3  2.39    1  273     21.0   6.48   \n",
            "505  0.05  0.0  11.93     0  0.57  6.03  80.8  2.51    1  273     21.0   7.88   \n",
            "\n",
            "     medv   Age10  \n",
            "501  22.4   76.01  \n",
            "502  20.6   84.37  \n",
            "503  23.9  100.10  \n",
            "504  22.0   98.23  \n",
            "505  11.9   88.88  \n"
          ]
        }
      ]
    }
  ]
}